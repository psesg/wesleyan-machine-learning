{
 "cells": [
  {
   "cell_type": "code",
   "execution_count": 4,
   "metadata": {
    "collapsed": true
   },
   "outputs": [],
   "source": [
    "from pandas import Series, DataFrame\n",
    "import pandas as pd\n",
    "import numpy as np\n",
    "import os\n",
    "import matplotlib.pylab as plt\n",
    "from sklearn.cross_validation import train_test_split\n",
    "from sklearn.tree import DecisionTreeClassifier\n",
    "from sklearn.metrics import classification_report\n",
    "import sklearn.metrics\n",
    " # Feature Importance\n",
    "from sklearn import datasets\n",
    "from sklearn.ensemble import ExtraTreesClassifier"
   ]
  },
  {
   "cell_type": "markdown",
   "metadata": {
    "collapsed": true
   },
   "source": [
    "### Load the dataset"
   ]
  },
  {
   "cell_type": "code",
   "execution_count": 5,
   "metadata": {
    "collapsed": false
   },
   "outputs": [
    {
     "data": {
      "text/plain": [
       "BIO_SEX    int64\n",
       "H1MO1      int64\n",
       "H1MO2      int64\n",
       "H1MO3      int64\n",
       "H1MO4      int64\n",
       "H1MO5      int64\n",
       "H1MO8      int64\n",
       "H1MO9      int64\n",
       "H1MO10     int64\n",
       "H1MO11     int64\n",
       "H1MO13     int64\n",
       "H1CO1      int64\n",
       "H1BC7      int64\n",
       "H1BC8      int64\n",
       "H1RE4      int64\n",
       "H1RE6      int64\n",
       "dtype: object"
      ]
     },
     "execution_count": 5,
     "metadata": {},
     "output_type": "execute_result"
    }
   ],
   "source": [
    "columns = [\"H1CO1\",\"H1MO1\",\"H1MO2\",\"H1MO3\",\"H1MO4\",\"H1MO5\",\"H1MO8\",\"H1MO9\",\"H1MO10\",\"H1MO11\",\"H1MO13\",\"H1RE4\",\"H1RE6\",\"H1BC8\",\"H1BC7\",\"BIO_SEX\"]\n",
    "\n",
    "AH_data = pd.read_csv(\"../../data/addhealth_pds.csv\", usecols=columns)\n",
    "\n",
    "filter_answers = [6,8,9]\n",
    "\n",
    "data_filter1 = AH_data.dropna()[~AH_data['H1CO1'].isin(filter_answers)]\n",
    "\n",
    "data_clean = data_filter1[~data_filter1['H1MO4'].isin([6,7,8,9])]\n",
    "\n",
    "data_clean.dtypes"
   ]
  },
  {
   "cell_type": "markdown",
   "metadata": {},
   "source": [
    "## Modeling and Prediction\n",
    "\n",
    "### Split into training and testing sets"
   ]
  },
  {
   "cell_type": "code",
   "execution_count": 6,
   "metadata": {
    "collapsed": true
   },
   "outputs": [],
   "source": [
    "predictors = data_clean[[\"H1MO1\",\"H1MO2\",\"H1MO3\",\"H1MO4\",\"H1MO5\",\"H1MO8\",\"H1MO9\",\"H1MO10\",\"H1MO11\",\"H1MO13\",\"H1RE4\",\"H1RE6\",\"H1BC8\",\"H1BC7\",\"BIO_SEX\"]]\n",
    "\n",
    "targets = data_clean.H1CO1\n",
    "\n",
    "pred_train, pred_test, tar_train, tar_test  =   train_test_split(predictors, targets, test_size=.4)\n"
   ]
  },
  {
   "cell_type": "markdown",
   "metadata": {},
   "source": [
    "### Build model on training data"
   ]
  },
  {
   "cell_type": "code",
   "execution_count": 7,
   "metadata": {
    "collapsed": false
   },
   "outputs": [
    {
     "name": "stdout",
     "output_type": "stream",
     "text": [
      "[ 0.06085028  0.07110611  0.10857838  0.0804474   0.07028096  0.06640975\n",
      "  0.06474151  0.07373985  0.06514039  0.05523976  0.05501062  0.06210014\n",
      "  0.07301819  0.05986994  0.03346674]\n"
     ]
    }
   ],
   "source": [
    "from sklearn.ensemble import RandomForestClassifier\n",
    "\n",
    "classifier=RandomForestClassifier(n_estimators=25)\n",
    "classifier=classifier.fit(pred_train,tar_train)\n",
    "\n",
    "predictions=classifier.predict(pred_test)\n",
    "\n",
    "sklearn.metrics.confusion_matrix(tar_test,predictions)\n",
    "sklearn.metrics.accuracy_score(tar_test, predictions)\n",
    "\n",
    "\n",
    "# fit an Extra Trees model to the data\n",
    "model = ExtraTreesClassifier()\n",
    "model.fit(pred_train,tar_train)\n",
    "# display the relative importance of each attribute\n",
    "importances = model.feature_importances_\n",
    "var_imp = pd.DataFrame(data = {'predictors':list(predictors.columns.values),'importances':importances})\n",
    "print(var_imp.sort_values(by='importances', ascending=False))"
   ]
  },
  {
   "cell_type": "code",
   "execution_count": 22,
   "metadata": {
    "collapsed": false
   },
   "outputs": [
    {
     "name": "stdout",
     "output_type": "stream",
     "text": [
      "    importances predictors\n",
      "2      0.108578      H1MO3\n",
      "3      0.080447      H1MO4\n",
      "7      0.073740     H1MO10\n",
      "12     0.073018      H1BC8\n",
      "1      0.071106      H1MO2\n",
      "4      0.070281      H1MO5\n",
      "5      0.066410      H1MO8\n",
      "8      0.065140     H1MO11\n",
      "6      0.064742      H1MO9\n",
      "11     0.062100      H1RE6\n",
      "0      0.060850      H1MO1\n",
      "13     0.059870      H1BC7\n",
      "9      0.055240     H1MO13\n",
      "10     0.055011      H1RE4\n",
      "14     0.033467    BIO_SEX\n"
     ]
    }
   ],
   "source": [
    "#list(predictors.columns.values)\n",
    "importances = model.feature_importances_\n",
    "var_imp = pd.DataFrame(data = {'predictors':list(predictors.columns.values),'importances':importances})\n",
    "print(var_imp.sort_values(by='importances', ascending=False))"
   ]
  },
  {
   "cell_type": "code",
   "execution_count": 24,
   "metadata": {
    "collapsed": false
   },
   "outputs": [
    {
     "data": {
      "text/plain": [
       "[<matplotlib.lines.Line2D at 0x7f306f791f98>]"
      ]
     },
     "execution_count": 24,
     "metadata": {},
     "output_type": "execute_result"
    }
   ],
   "source": [
    "trees=range(25)\n",
    "accuracy=np.zeros(25)\n",
    "\n",
    "for idx in range(len(trees)):\n",
    "   classifier=RandomForestClassifier(n_estimators=idx + 1)\n",
    "   classifier=classifier.fit(pred_train,tar_train)\n",
    "   predictions=classifier.predict(pred_test)\n",
    "   accuracy[idx]=sklearn.metrics.accuracy_score(tar_test, predictions)\n",
    "   \n",
    "plt.cla()\n",
    "plt.plot(trees, accuracy)\n",
    "\n"
   ]
  }
 ],
 "metadata": {
  "kernelspec": {
   "display_name": "Python 3",
   "language": "python",
   "name": "python3"
  },
  "language_info": {
   "codemirror_mode": {
    "name": "ipython",
    "version": 3
   },
   "file_extension": ".py",
   "mimetype": "text/x-python",
   "name": "python",
   "nbconvert_exporter": "python",
   "pygments_lexer": "ipython3",
   "version": "3.5.1+"
  }
 },
 "nbformat": 4,
 "nbformat_minor": 0
}
